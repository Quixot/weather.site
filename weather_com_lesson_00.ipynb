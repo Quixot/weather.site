{
  "nbformat": 4,
  "nbformat_minor": 0,
  "metadata": {
    "colab": {
      "provenance": [],
      "authorship_tag": "ABX9TyM0YbCgk4QbEw04K/KgHSkV",
      "include_colab_link": true
    },
    "kernelspec": {
      "name": "python3",
      "display_name": "Python 3"
    },
    "language_info": {
      "name": "python"
    }
  },
  "cells": [
    {
      "cell_type": "markdown",
      "metadata": {
        "id": "view-in-github",
        "colab_type": "text"
      },
      "source": [
        "<a href=\"https://colab.research.google.com/github/Quixot/weather.site/blob/main/weather_com_lesson_00.ipynb\" target=\"_parent\"><img src=\"https://colab.research.google.com/assets/colab-badge.svg\" alt=\"Open In Colab\"/></a>"
      ]
    },
    {
      "cell_type": "code",
      "execution_count": 1,
      "metadata": {
        "id": "IfARld_svzm2"
      },
      "outputs": [],
      "source": [
        "# Работа с коллекциями\n",
        "# Доступ к элементу по индексу\n",
        "\n",
        "my_list = [1,2,3,4,5]"
      ]
    },
    {
      "cell_type": "code",
      "source": [
        "my_list[1] # 2"
      ],
      "metadata": {
        "colab": {
          "base_uri": "https://localhost:8080/"
        },
        "id": "OBD15QmzwD__",
        "outputId": "a1d12ea8-b17f-4883-8096-4647776a620e"
      },
      "execution_count": 2,
      "outputs": [
        {
          "output_type": "execute_result",
          "data": {
            "text/plain": [
              "2"
            ]
          },
          "metadata": {},
          "execution_count": 2
        }
      ]
    },
    {
      "cell_type": "code",
      "source": [
        "# Слайсы\n",
        "my_list[0:3] # [1,2,3] - элементы с индексами 0,1,2"
      ],
      "metadata": {
        "colab": {
          "base_uri": "https://localhost:8080/"
        },
        "id": "yobMRxWWyLtc",
        "outputId": "1c56dde6-a91a-4ac7-a0b0-5e9e9f23ae01"
      },
      "execution_count": 3,
      "outputs": [
        {
          "output_type": "execute_result",
          "data": {
            "text/plain": [
              "[1, 2, 3]"
            ]
          },
          "metadata": {},
          "execution_count": 3
        }
      ]
    },
    {
      "cell_type": "code",
      "source": [
        "# Тот же синтаксис, но короткий\n",
        "my_list[:3]"
      ],
      "metadata": {
        "colab": {
          "base_uri": "https://localhost:8080/"
        },
        "id": "Wc-3ct3WyUPS",
        "outputId": "dea48e40-6478-40d8-fa28-0c502e4740ed"
      },
      "execution_count": 4,
      "outputs": [
        {
          "output_type": "execute_result",
          "data": {
            "text/plain": [
              "[1, 2, 3]"
            ]
          },
          "metadata": {},
          "execution_count": 4
        }
      ]
    },
    {
      "cell_type": "code",
      "source": [
        "# Элементы с индкса 1 по 4 (не включая 4)\n",
        "my_list[1:4] # [2,3,4]"
      ],
      "metadata": {
        "colab": {
          "base_uri": "https://localhost:8080/"
        },
        "id": "qmeSX5vHyfm_",
        "outputId": "ecaa0f2a-8831-4cba-c9ad-cc460aaa01c3"
      },
      "execution_count": 6,
      "outputs": [
        {
          "output_type": "execute_result",
          "data": {
            "text/plain": [
              "[2, 3, 4]"
            ]
          },
          "metadata": {},
          "execution_count": 6
        }
      ]
    },
    {
      "cell_type": "code",
      "source": [
        "# Элементы с индакса 1 до конца\n",
        "my_list[1:] # [2,3,4,5]"
      ],
      "metadata": {
        "colab": {
          "base_uri": "https://localhost:8080/"
        },
        "id": "yvfQ1wI8ypDW",
        "outputId": "026282ee-4379-4df5-af1e-9d558362933c"
      },
      "execution_count": 7,
      "outputs": [
        {
          "output_type": "execute_result",
          "data": {
            "text/plain": [
              "[2, 3, 4, 5]"
            ]
          },
          "metadata": {},
          "execution_count": 7
        }
      ]
    },
    {
      "cell_type": "code",
      "source": [
        "# Работа со словарями\n",
        "\n",
        "my_dict = {\"key 0\": \"value 0\", \"key 1\": \"value 1\", \"key 2\": \"value 2\"}"
      ],
      "metadata": {
        "id": "aIYg_uDxyy15"
      },
      "execution_count": 8,
      "outputs": []
    },
    {
      "cell_type": "code",
      "source": [
        "# Доступ по ключу\n",
        "\n",
        "my_dict[\"key 0\"]"
      ],
      "metadata": {
        "colab": {
          "base_uri": "https://localhost:8080/",
          "height": 35
        },
        "id": "wn6QZq9kzDA3",
        "outputId": "0d2d2b03-028b-4eef-b07c-5471c5ce13c0"
      },
      "execution_count": 9,
      "outputs": [
        {
          "output_type": "execute_result",
          "data": {
            "text/plain": [
              "'value 0'"
            ],
            "application/vnd.google.colaboratory.intrinsic+json": {
              "type": "string"
            }
          },
          "metadata": {},
          "execution_count": 9
        }
      ]
    },
    {
      "cell_type": "code",
      "source": [
        "# Получить все ключи\n",
        "my_dict.keys()"
      ],
      "metadata": {
        "colab": {
          "base_uri": "https://localhost:8080/"
        },
        "id": "GJkGibABzI_f",
        "outputId": "33258e2c-5968-4dc2-8d8d-fe85a30f5fb7"
      },
      "execution_count": 10,
      "outputs": [
        {
          "output_type": "execute_result",
          "data": {
            "text/plain": [
              "dict_keys(['key 0', 'key 1', 'key 2'])"
            ]
          },
          "metadata": {},
          "execution_count": 10
        }
      ]
    },
    {
      "cell_type": "code",
      "source": [
        "# Получить все значения\n",
        "my_dict.values()"
      ],
      "metadata": {
        "colab": {
          "base_uri": "https://localhost:8080/"
        },
        "id": "zKSAQgxGzRHE",
        "outputId": "4be201d6-e72c-45ff-8726-4c202191b556"
      },
      "execution_count": 11,
      "outputs": [
        {
          "output_type": "execute_result",
          "data": {
            "text/plain": [
              "dict_values(['value 0', 'value 1', 'value 2'])"
            ]
          },
          "metadata": {},
          "execution_count": 11
        }
      ]
    },
    {
      "cell_type": "code",
      "source": [
        "# Получить и ключи и значения\n",
        "my_dict.items()"
      ],
      "metadata": {
        "colab": {
          "base_uri": "https://localhost:8080/"
        },
        "id": "mEDNtMGAzV0T",
        "outputId": "4bdde32c-34f0-463a-a207-d6169f069d92"
      },
      "execution_count": 12,
      "outputs": [
        {
          "output_type": "execute_result",
          "data": {
            "text/plain": [
              "dict_items([('key 0', 'value 0'), ('key 1', 'value 1'), ('key 2', 'value 2')])"
            ]
          },
          "metadata": {},
          "execution_count": 12
        }
      ]
    },
    {
      "cell_type": "code",
      "source": [
        "# Это объект можно проитерировать получив кортеж пар ключ - значение\n",
        "for key, value in my_dict.items():\n",
        "    print(key, value)"
      ],
      "metadata": {
        "colab": {
          "base_uri": "https://localhost:8080/"
        },
        "id": "JSB36OplzZli",
        "outputId": "fb33a3f7-fdb6-4d2f-b76a-c9dc3a53a995"
      },
      "execution_count": 14,
      "outputs": [
        {
          "output_type": "stream",
          "name": "stdout",
          "text": [
            "key 0 value 0\n",
            "key 1 value 1\n",
            "key 2 value 2\n"
          ]
        }
      ]
    },
    {
      "cell_type": "code",
      "source": [
        "list(my_dict)"
      ],
      "metadata": {
        "colab": {
          "base_uri": "https://localhost:8080/"
        },
        "id": "DxKtcmaHzqVz",
        "outputId": "dca26da2-e95b-426d-c81f-c04b92216957"
      },
      "execution_count": 23,
      "outputs": [
        {
          "output_type": "execute_result",
          "data": {
            "text/plain": [
              "['key 0', 'key 1', 'key 2']"
            ]
          },
          "metadata": {},
          "execution_count": 23
        }
      ]
    },
    {
      "cell_type": "code",
      "source": [
        "# Сложные конструкции\n",
        "# Коллекции могут быть вложенными\n",
        "# Словари в списки и наоборот\n",
        "# (список не может быть ключом, только значением)\n",
        "\n",
        "complex_col = {'key 0': 'value', 'key 1': [1,2,3]}\n",
        "complex_col"
      ],
      "metadata": {
        "colab": {
          "base_uri": "https://localhost:8080/"
        },
        "id": "VCGeyCce2ryu",
        "outputId": "0b407006-2546-45fe-93b2-86dec9a16fd6"
      },
      "execution_count": 26,
      "outputs": [
        {
          "output_type": "execute_result",
          "data": {
            "text/plain": [
              "{'key 0': 'value', 'key 1': [1, 2, 3]}"
            ]
          },
          "metadata": {},
          "execution_count": 26
        }
      ]
    },
    {
      "cell_type": "code",
      "source": [
        "# Доступ осуществляется поэтапно\n",
        "# Получаем доступ по ключу 'key 1'\n",
        "# Затем доступ к элементу списку по индексу 2\n",
        "\n",
        "complex_col['key 1'][2] # 2"
      ],
      "metadata": {
        "colab": {
          "base_uri": "https://localhost:8080/"
        },
        "id": "MF0RJxON29e4",
        "outputId": "08ee95dc-0386-4dd3-dbe1-f993bfa40bbe"
      },
      "execution_count": 27,
      "outputs": [
        {
          "output_type": "execute_result",
          "data": {
            "text/plain": [
              "3"
            ]
          },
          "metadata": {},
          "execution_count": 27
        }
      ]
    },
    {
      "cell_type": "code",
      "source": [],
      "metadata": {
        "id": "3dWtBZmb29VA"
      },
      "execution_count": null,
      "outputs": []
    }
  ]
}